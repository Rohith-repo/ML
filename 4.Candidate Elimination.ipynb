{
 "cells": [
  {
   "cell_type": "code",
   "execution_count": null,
   "id": "5ae07b0b-2df2-4915-8ecb-f44951dfd039",
   "metadata": {},
   "outputs": [
    {
     "name": "stdout",
     "output_type": "stream",
     "text": [
      "Final Specific Hypothesis (S): [np.str_('Sunny'), np.str_('Warm'), '?', np.str_('Strong'), '?', '?']\n",
      "Final General Hypotheses (G): []\n"
     ]
    }
   ],
   "source": [
    "import numpy as np\n",
    "\n",
    "def candidate_elimination(data, target):\n",
    "    num_attributes = data.shape[1]\n",
    "    S = ['Ø'] * num_attributes\n",
    "    G = [['?'] * num_attributes]\n",
    "\n",
    "    for i, example in enumerate(data):\n",
    "        if target[i] == \"Yes\":\n",
    "            for j in range(num_attributes):\n",
    "                if S[j] == 'Ø':\n",
    "                    S[j] = example[j]\n",
    "                elif S[j] != example[j]:\n",
    "                    S[j] = '?'\n",
    "            G = [g for g in G if is_consistent(g, example)]\n",
    "        \n",
    "        elif target[i] == \"No\":\n",
    "            if is_consistent(S, example):\n",
    "                S = ['Ø'] * num_attributes\n",
    "            \n",
    "            new_G = []\n",
    "            for g in G:\n",
    "                if is_consistent(g, example):\n",
    "                    for j in range(num_attributes):\n",
    "                        if g[j] == '?':\n",
    "                            for value in np.unique(data[:, j]):\n",
    "                                if value != example[j]:\n",
    "                                    new_hypothesis = g.copy()\n",
    "                                    new_hypothesis[j] = value\n",
    "                                    if is_more_general(new_hypothesis, S):\n",
    "                                        new_G.append(new_hypothesis)\n",
    "                else:\n",
    "                    new_G.append(g)\n",
    "            G = new_G\n",
    "\n",
    "    return S, G\n",
    "\n",
    "def is_consistent(hypothesis, example):\n",
    "    for h, e in zip(hypothesis, example):\n",
    "        if h != '?' and h != e:\n",
    "            return False\n",
    "    return True\n",
    "\n",
    "def is_more_general(h1, h2):\n",
    "    more_general = False\n",
    "    for x, y in zip(h1, h2):\n",
    "        if x == '?' or x == y:\n",
    "            continue\n",
    "        elif y == 'Ø':\n",
    "            continue\n",
    "        elif x != y:\n",
    "            return False\n",
    "        more_general = True\n",
    "    return more_general\n",
    "\n",
    "data = np.array([\n",
    "    ['Sunny', 'Warm', 'Normal', 'Strong', 'Warm', 'Same'],\n",
    "    ['Sunny', 'Warm', 'High', 'Strong', 'Warm', 'Same'],\n",
    "    ['Rainy', 'Cold', 'High', 'Strong', 'Warm', 'Change'],\n",
    "    ['Sunny', 'Warm', 'High', 'Strong', 'Cool', 'Change']\n",
    "])\n",
    "target = np.array(['Yes', 'Yes', 'No', 'Yes'])\n",
    "\n",
    "S, G = candidate_elimination(data, target)\n",
    "\n",
    "print(\"Final Specific Hypothesis (S):\", S)\n",
    "print(\"Final General Hypotheses (G):\", G)\n"
   ]
  },
  {
   "cell_type": "code",
   "execution_count": null,
   "id": "3eac80c9-ae4a-441d-9c4c-9695a7749b24",
   "metadata": {},
   "outputs": [],
   "source": []
  }
 ],
 "metadata": {
  "kernelspec": {
   "display_name": "Python 3 (ipykernel)",
   "language": "python",
   "name": "python3"
  },
  "language_info": {
   "codemirror_mode": {
    "name": "ipython",
    "version": 3
   },
   "file_extension": ".py",
   "mimetype": "text/x-python",
   "name": "python",
   "nbconvert_exporter": "python",
   "pygments_lexer": "ipython3",
   "version": "3.12.7"
  }
 },
 "nbformat": 4,
 "nbformat_minor": 5
}
