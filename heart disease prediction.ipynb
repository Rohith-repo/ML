{
 "cells": [
  {
   "cell_type": "code",
   "execution_count": 3,
   "id": "113e3e88-498e-4bc6-89f6-95f580df6ac1",
   "metadata": {},
   "outputs": [
    {
     "name": "stdout",
     "output_type": "stream",
     "text": [
      "Few examples from the dataset:\n",
      "        age  sex  cp  trestbps       chol  fbs  restecg  thalach  exang  \\\n",
      "0  very-old    1   2       122  very-high    0        0      143      1   \n",
      "1  very-old    1   2       166        low    0        0       76      1   \n",
      "2       NaN    0   0       112        low    1        1      110      1   \n",
      "3     young    0   3       119        low    0        0      150      0   \n",
      "4     young    1   2       118  very-high    0        0      150      0   \n",
      "\n",
      "    oldpeak  slope  ca  thal  heartdisease  \n",
      "0  2.219500      0   1     1             1  \n",
      "1  2.697880      1   0     1             0  \n",
      "2  3.663746      2   3     3             0  \n",
      "3  4.478827      0   3     1             0  \n",
      "4  1.969318      1   2     3             0  \n",
      "\n",
      "Learning CPD using Maximum Likelihood Estimators...\n",
      "\n",
      "Inferencing with Bayesian Network:\n",
      "\n",
      "1. Probability of HeartDisease given Age=young\n",
      "+-----------------+---------------------+\n",
      "| heartdisease    |   phi(heartdisease) |\n",
      "+=================+=====================+\n",
      "| heartdisease(0) |              0.5098 |\n",
      "+-----------------+---------------------+\n",
      "| heartdisease(1) |              0.4902 |\n",
      "+-----------------+---------------------+\n",
      "\n",
      "2. Probability of HeartDisease given cholesterol=low\n",
      "+-----------------+---------------------+\n",
      "| heartdisease    |   phi(heartdisease) |\n",
      "+=================+=====================+\n",
      "| heartdisease(0) |              0.5315 |\n",
      "+-----------------+---------------------+\n",
      "| heartdisease(1) |              0.4685 |\n",
      "+-----------------+---------------------+\n"
     ]
    }
   ],
   "source": [
    "import numpy as np\n",
    "import pandas as pd\n",
    "from pgmpy.models import BayesianNetwork\n",
    "from pgmpy.estimators import MaximumLikelihoodEstimator\n",
    "from pgmpy.inference import VariableElimination\n",
    "\n",
    "# Generate synthetic data\n",
    "np.random.seed(0)\n",
    "data = {\n",
    "    'age': pd.cut(np.random.randint(29, 77, 300), bins=[29, 40, 50, 60, 77], labels=['young', 'mid-age', 'old', 'very-old']),\n",
    "    'sex': np.random.choice([0, 1], 300),\n",
    "    'cp': np.random.randint(0, 4, 300),\n",
    "    'trestbps': np.random.randint(94, 200, 300),\n",
    "    'chol': pd.cut(np.random.randint(126, 564, 300), bins=[126, 200, 300, 400, 564], labels=['low', 'medium', 'high', 'very-high']),\n",
    "    'fbs': np.random.choice([0, 1], 300),\n",
    "    'restecg': np.random.randint(0, 2, 300),\n",
    "    'thalach': np.random.randint(71, 202, 300),\n",
    "    'exang': np.random.choice([0, 1], 300),\n",
    "    'oldpeak': np.random.uniform(0.0, 6.2, 300),\n",
    "    'slope': np.random.randint(0, 3, 300),\n",
    "    'ca': np.random.randint(0, 4, 300),\n",
    "    'thal': np.random.randint(1, 4, 300),\n",
    "    'heartdisease': np.random.choice([0, 1], 300)\n",
    "}\n",
    "heartDisease_df = pd.DataFrame(data)\n",
    "\n",
    "# Define model and fit\n",
    "model = BayesianNetwork([\n",
    "    ('age', 'trestbps'), ('age', 'fbs'), ('sex', 'trestbps'), ('exang', 'trestbps'),\n",
    "    ('trestbps', 'heartdisease'), ('fbs', 'heartdisease'), ('heartdisease', 'restecg'),\n",
    "    ('heartdisease', 'thalach'), ('heartdisease', 'chol')\n",
    "])\n",
    "model.fit(heartDisease_df, estimator=MaximumLikelihoodEstimator)\n",
    "\n",
    "# Inference\n",
    "infer = VariableElimination(model)\n",
    "print(infer.query(variables=['heartdisease'], evidence={'age': 'young'}))\n",
    "print(infer.query(variables=['heartdisease'], evidence={'chol': 'low'}))\n"
   ]
  },
  {
   "cell_type": "code",
   "execution_count": null,
   "id": "1a24492b-26e0-42f2-b23f-91c62677586b",
   "metadata": {},
   "outputs": [],
   "source": []
  }
 ],
 "metadata": {
  "kernelspec": {
   "display_name": "Python 3 (ipykernel)",
   "language": "python",
   "name": "python3"
  },
  "language_info": {
   "codemirror_mode": {
    "name": "ipython",
    "version": 3
   },
   "file_extension": ".py",
   "mimetype": "text/x-python",
   "name": "python",
   "nbconvert_exporter": "python",
   "pygments_lexer": "ipython3",
   "version": "3.12.7"
  }
 },
 "nbformat": 4,
 "nbformat_minor": 5
}
