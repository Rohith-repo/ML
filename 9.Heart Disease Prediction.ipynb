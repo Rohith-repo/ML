{
 "cells": [
  {
   "cell_type": "code",
   "execution_count": 2,
   "metadata": {},
   "outputs": [
    {
     "name": "stdout",
     "output_type": "stream",
     "text": [
      "+-----------------+---------------------+\n",
      "| heartdisease    |   phi(heartdisease) |\n",
      "+=================+=====================+\n",
      "| heartdisease(0) |              0.5098 |\n",
      "+-----------------+---------------------+\n",
      "| heartdisease(1) |              0.4902 |\n",
      "+-----------------+---------------------+\n",
      "+-----------------+---------------------+\n",
      "| heartdisease    |   phi(heartdisease) |\n",
      "+=================+=====================+\n",
      "| heartdisease(0) |              0.5315 |\n",
      "+-----------------+---------------------+\n",
      "| heartdisease(1) |              0.4685 |\n",
      "+-----------------+---------------------+\n"
     ]
    }
   ],
   "source": [
    "import numpy as np\n",
    "import pandas as pd\n",
    "from pgmpy.models import BayesianNetwork\n",
    "from pgmpy.estimators import MaximumLikelihoodEstimator\n",
    "from pgmpy.inference import VariableElimination\n",
    "\n",
    "np.random.seed(0)\n",
    "data = {\n",
    "    'age': pd.cut(np.random.randint(29, 77, 300), bins=[29, 40, 50, 60, 77], labels=['young', 'mid-age', 'old', 'very-old']),\n",
    "    'sex': np.random.choice([0, 1], 300),\n",
    "    'cp': np.random.randint(0, 4, 300),\n",
    "    'trestbps': np.random.randint(94, 200, 300),\n",
    "    'chol': pd.cut(np.random.randint(126, 564, 300), bins=[126, 200, 300, 400, 564], labels=['low', 'medium', 'high', 'very-high']),\n",
    "    'fbs': np.random.choice([0, 1], 300),\n",
    "    'restecg': np.random.randint(0, 2, 300),\n",
    "    'thalach': np.random.randint(71, 202, 300),\n",
    "    'exang': np.random.choice([0, 1], 300),\n",
    "    'oldpeak': np.random.uniform(0.0, 6.2, 300),\n",
    "    'slope': np.random.randint(0, 3, 300),\n",
    "    'ca': np.random.randint(0, 4, 300),\n",
    "    'thal': np.random.randint(1, 4, 300),\n",
    "    'heartdisease': np.random.choice([0, 1], 300)\n",
    "}\n",
    "heartDisease_df = pd.DataFrame(data)\n",
    "\n",
    "model = BayesianNetwork([\n",
    "    ('age', 'trestbps'), ('age', 'fbs'), ('sex', 'trestbps'), ('exang', 'trestbps'),\n",
    "    ('trestbps', 'heartdisease'), ('fbs', 'heartdisease'), ('heartdisease', 'restecg'),\n",
    "    ('heartdisease', 'thalach'), ('heartdisease', 'chol')\n",
    "])\n",
    "model.fit(heartDisease_df, estimator=MaximumLikelihoodEstimator)\n",
    "\n",
    "infer = VariableElimination(model)\n",
    "print(infer.query(variables=['heartdisease'], evidence={'age': 'young'}))\n",
    "print(infer.query(variables=['heartdisease'], evidence={'chol': 'low'}))\n"
   ]
  }
 ],
 "metadata": {
  "kernelspec": {
   "display_name": "Python 3",
   "language": "python",
   "name": "python3"
  },
  "language_info": {
   "codemirror_mode": {
    "name": "ipython",
    "version": 3
   },
   "file_extension": ".py",
   "mimetype": "text/x-python",
   "name": "python",
   "nbconvert_exporter": "python",
   "pygments_lexer": "ipython3",
   "version": "3.12.6"
  }
 },
 "nbformat": 4,
 "nbformat_minor": 2
}
